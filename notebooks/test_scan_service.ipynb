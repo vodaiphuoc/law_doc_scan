{
 "cells": [
  {
   "cell_type": "code",
   "execution_count": null,
   "id": "8670fa28",
   "metadata": {
    "vscode": {
     "languageId": "plaintext"
    }
   },
   "outputs": [],
   "source": [
    "# 1) create a test dataset with some PDF files before run\n",
    "# 2) select GPU T4 type"
   ]
  },
  {
   "cell_type": "code",
   "execution_count": null,
   "id": "526c7a61",
   "metadata": {
    "vscode": {
     "languageId": "plaintext"
    }
   },
   "outputs": [],
   "source": [
    "!git clone --branch master <your-repo-url-here> law_doc_scan\n",
    "!pip install --quiet -r /kaggle/working/law_doc_scan/scan_service/requirements.txt"
   ]
  },
  {
   "cell_type": "code",
   "execution_count": null,
   "id": "9801b369",
   "metadata": {
    "vscode": {
     "languageId": "plaintext"
    }
   },
   "outputs": [],
   "source": [
    "# run with example path '/kaggle/input/test-law-doc/1548-ttg.pdf'\n",
    "!cd /kaggle/working/law_doc_scan && \\\n",
    "    python scan_service/app.py --file_path /kaggle/input/test-law-doc/1548-ttg.pdf"
   ]
  }
 ],
 "metadata": {
  "language_info": {
   "name": "python"
  }
 },
 "nbformat": 4,
 "nbformat_minor": 5
}
